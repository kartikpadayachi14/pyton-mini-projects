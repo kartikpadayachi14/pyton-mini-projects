{
 "cells": [
  {
   "cell_type": "code",
   "execution_count": 7,
   "id": "b48d3921-db57-497b-a22a-df8444aecf59",
   "metadata": {},
   "outputs": [
    {
     "name": "stdin",
     "output_type": "stream",
     "text": [
      "Enter calculation (e.g. 5+3) or 'history' or 'quit': 5 -7\n"
     ]
    },
    {
     "name": "stdout",
     "output_type": "stream",
     "text": [
      "Error: not enough values to unpack (expected 3, got 2)\n"
     ]
    },
    {
     "name": "stdin",
     "output_type": "stream",
     "text": [
      "Enter calculation (e.g. 5+3) or 'history' or 'quit': 2*2\n"
     ]
    },
    {
     "name": "stdout",
     "output_type": "stream",
     "text": [
      "Error: not enough values to unpack (expected 3, got 1)\n"
     ]
    },
    {
     "name": "stdin",
     "output_type": "stream",
     "text": [
      "Enter calculation (e.g. 5+3) or 'history' or 'quit': history\n"
     ]
    },
    {
     "name": "stdout",
     "output_type": "stream",
     "text": [
      "No history yet.\n"
     ]
    },
    {
     "name": "stdin",
     "output_type": "stream",
     "text": [
      "Enter calculation (e.g. 5+3) or 'history' or 'quit': 5+3\n"
     ]
    },
    {
     "name": "stdout",
     "output_type": "stream",
     "text": [
      "Error: not enough values to unpack (expected 3, got 1)\n"
     ]
    },
    {
     "name": "stdin",
     "output_type": "stream",
     "text": [
      "Enter calculation (e.g. 5+3) or 'history' or 'quit': 5 + 3\n"
     ]
    },
    {
     "name": "stdout",
     "output_type": "stream",
     "text": [
      "Result: 8.0\n"
     ]
    },
    {
     "name": "stdin",
     "output_type": "stream",
     "text": [
      "Enter calculation (e.g. 5+3) or 'history' or 'quit': 6 + 9\n"
     ]
    },
    {
     "name": "stdout",
     "output_type": "stream",
     "text": [
      "Result: 15.0\n"
     ]
    },
    {
     "name": "stdin",
     "output_type": "stream",
     "text": [
      "Enter calculation (e.g. 5+3) or 'history' or 'quit': 9 * 4\n"
     ]
    },
    {
     "name": "stdout",
     "output_type": "stream",
     "text": [
      "Result: 36.0\n"
     ]
    },
    {
     "name": "stdin",
     "output_type": "stream",
     "text": [
      "Enter calculation (e.g. 5+3) or 'history' or 'quit': 4 / 8\n"
     ]
    },
    {
     "name": "stdout",
     "output_type": "stream",
     "text": [
      "Result: 0.5\n"
     ]
    },
    {
     "name": "stdin",
     "output_type": "stream",
     "text": [
      "Enter calculation (e.g. 5+3) or 'history' or 'quit': 8 / 4\n"
     ]
    },
    {
     "name": "stdout",
     "output_type": "stream",
     "text": [
      "Result: 2.0\n"
     ]
    },
    {
     "name": "stdin",
     "output_type": "stream",
     "text": [
      "Enter calculation (e.g. 5+3) or 'history' or 'quit': history\n"
     ]
    },
    {
     "name": "stdout",
     "output_type": "stream",
     "text": [
      "2025-09-12: 5 + 3 = 8.0\n",
      "2025-09-12: 6 + 9 = 15.0\n",
      "2025-09-12: 9 * 4 = 36.0\n",
      "2025-09-12: 4 / 8 = 0.5\n",
      "2025-09-12: 8 / 4 = 2.0\n",
      "\n"
     ]
    },
    {
     "name": "stdin",
     "output_type": "stream",
     "text": [
      "Enter calculation (e.g. 5+3) or 'history' or 'quit': quit\n"
     ]
    }
   ],
   "source": [
    "from datetime import date\n",
    "\n",
    "def add(x,y): return x+y\n",
    "def sub(x,y): return x-y\n",
    "def mul(x,y): return x*y\n",
    "def div(x,y): return x/y if y !=0 else \"Error : divide by zero\"\n",
    "\n",
    "today = date.today().isoformat()\n",
    "\n",
    "while True:\n",
    "    cmd = input(\"Enter calculation (e.g. 5+3) or 'history' or 'quit':\")\n",
    "\n",
    "    if cmd == \"quit\":\n",
    "        break\n",
    "    elif cmd == \"history\":\n",
    "        try:\n",
    "            with open(\"history.txt\",\"r\") as f:\n",
    "                print(f.read())\n",
    "        except FileNotFoundError:\n",
    "            print(\"No history yet.\")\n",
    "        continue\n",
    "\n",
    "    try:\n",
    "        x,op,y = cmd.split()\n",
    "        x,y = float(x),float(y)\n",
    "\n",
    "        if op == \"+\": result = add(x,y)\n",
    "        elif op == \"-\": result = sub(x,y)\n",
    "        elif op == \"*\": result = mul(x,y)\n",
    "        elif op == \"/\": result = div(x,y)\n",
    "        else:\n",
    "            print(\"Unknown operator.\")\n",
    "            continue\n",
    "\n",
    "        print(\"Result:\",result)\n",
    "\n",
    "        with open(\"history.txt\",\"a\")as f:\n",
    "            f.write(f\"{today}: {cmd} = {result}\\n\")\n",
    "\n",
    "    except Exception as e:\n",
    "        print(\"Error:\",e)"
   ]
  },
  {
   "cell_type": "code",
   "execution_count": null,
   "id": "bf10d882-c103-4d62-8a46-ae6f885f3d11",
   "metadata": {},
   "outputs": [],
   "source": []
  }
 ],
 "metadata": {
  "kernelspec": {
   "display_name": "Python [conda env:base] *",
   "language": "python",
   "name": "conda-base-py"
  },
  "language_info": {
   "codemirror_mode": {
    "name": "ipython",
    "version": 3
   },
   "file_extension": ".py",
   "mimetype": "text/x-python",
   "name": "python",
   "nbconvert_exporter": "python",
   "pygments_lexer": "ipython3",
   "version": "3.12.7"
  }
 },
 "nbformat": 4,
 "nbformat_minor": 5
}
