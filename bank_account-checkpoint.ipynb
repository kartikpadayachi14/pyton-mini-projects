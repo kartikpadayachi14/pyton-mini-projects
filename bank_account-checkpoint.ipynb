{
 "cells": [
  {
   "cell_type": "code",
   "execution_count": 12,
   "id": "0dd81004-705c-4799-8fa8-442a3b3c752d",
   "metadata": {},
   "outputs": [
    {
     "name": "stdout",
     "output_type": "stream",
     "text": [
      "Asha deposited 50. Balance: 150\n",
      "Asha withdrew 50.Balance : 100\n",
      "Asha's balance: 100\n"
     ]
    }
   ],
   "source": [
    "class BankAccount:\n",
    "    def __init__(self,owner,balance):\n",
    "        self.owner = owner\n",
    "        self.balance = balance\n",
    "\n",
    "    def deposit(self,amount):\n",
    "        self.balance += amount\n",
    "        print(f\"{self.owner} deposited {amount}. Balance: {self.balance}\")\n",
    "\n",
    "    def withdraw(self,amount):\n",
    "        if amount <= self.balance:\n",
    "            self.balance -= amount\n",
    "            print(f\"{self.owner} withdrew {amount}.Balance : {self.balance}\")\n",
    "        else:\n",
    "            print(\"Insufficient funds!\")\n",
    "\n",
    "    def show_balance(self):\n",
    "        print(f\"{self.owner}'s balance: {self.balance}\")\n",
    "        \n",
    "acc1 = BankAccount(\"Asha\",100)\n",
    "acc1.deposit(50)\n",
    "acc1.withdraw(50)\n",
    "acc1.show_balance()\n",
    "\n",
    "        "
   ]
  },
  {
   "cell_type": "code",
   "execution_count": null,
   "id": "4049237c-497c-418c-b5f5-13d959969de6",
   "metadata": {},
   "outputs": [],
   "source": []
  }
 ],
 "metadata": {
  "kernelspec": {
   "display_name": "Python [conda env:base] *",
   "language": "python",
   "name": "conda-base-py"
  },
  "language_info": {
   "codemirror_mode": {
    "name": "ipython",
    "version": 3
   },
   "file_extension": ".py",
   "mimetype": "text/x-python",
   "name": "python",
   "nbconvert_exporter": "python",
   "pygments_lexer": "ipython3",
   "version": "3.12.7"
  }
 },
 "nbformat": 4,
 "nbformat_minor": 5
}
