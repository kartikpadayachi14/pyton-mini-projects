{
 "cells": [
  {
   "cell_type": "code",
   "execution_count": 27,
   "id": "2deae439-da91-490e-9392-d40bd6e73bdd",
   "metadata": {},
   "outputs": [
    {
     "name": "stdin",
     "output_type": "stream",
     "text": [
      "Enter password length (min 6): 12\n"
     ]
    },
    {
     "name": "stdout",
     "output_type": "stream",
     "text": [
      "Generated Password: Wqyh*kKHejZ4\n"
     ]
    }
   ],
   "source": [
    "import random \n",
    "import string\n",
    "from datetime import date\n",
    "\n",
    "try:\n",
    "    length_input = input(\"Enter password length (min 6):\")\n",
    "    \n",
    "    if not length_input.isdigit():\n",
    "        raise ValueError(\"you must enter a number\")\n",
    "\n",
    "    length = int(length_input)\n",
    "    if length < 6:\n",
    "        raise ValueError(\"Password too short\")\n",
    "\n",
    "    chars = string.ascii_letters + string.digits + \"!@#$%^&*\"\n",
    "    password = \"\".join(random.choice(chars) for _ in range(length))\n",
    "\n",
    "    print(\"Generated Password:\",password)\n",
    "\n",
    "    with open(\"password.txt\",\"a\") as f:\n",
    "        f.write(f\"{date.today()} -> {password}\\n\")\n",
    "\n",
    "except ValueError as e:\n",
    "    print(\"Error:\",e)"
   ]
  },
  {
   "cell_type": "code",
   "execution_count": null,
   "id": "f4ed1011-8085-461c-b8e6-c704465189e8",
   "metadata": {},
   "outputs": [],
   "source": []
  }
 ],
 "metadata": {
  "kernelspec": {
   "display_name": "Python [conda env:base] *",
   "language": "python",
   "name": "conda-base-py"
  },
  "language_info": {
   "codemirror_mode": {
    "name": "ipython",
    "version": 3
   },
   "file_extension": ".py",
   "mimetype": "text/x-python",
   "name": "python",
   "nbconvert_exporter": "python",
   "pygments_lexer": "ipython3",
   "version": "3.12.7"
  }
 },
 "nbformat": 4,
 "nbformat_minor": 5
}
