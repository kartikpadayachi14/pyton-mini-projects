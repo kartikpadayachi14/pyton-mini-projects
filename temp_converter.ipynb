{
 "cells": [
  {
   "cell_type": "code",
   "execution_count": 8,
   "id": "b426ec6f-5254-4199-be79-ffeb10f5371b",
   "metadata": {},
   "outputs": [
    {
     "name": "stdin",
     "output_type": "stream",
     "text": [
      "Type C fot Celsius to Fahrenheit or F for Fahrenheit to Celsius: C\n",
      "Enter temperature: 50\n"
     ]
    },
    {
     "name": "stdout",
     "output_type": "stream",
     "text": [
      "Result: 122.0 F\n"
     ]
    }
   ],
   "source": [
    "def c_to_f(c):\n",
    "    return(c*9/5) + 32\n",
    "\n",
    "def f_to_c(f):\n",
    "    return(f-32) * 5/9\n",
    "\n",
    "try:\n",
    "    choice = input(\"Type C fot Celsius to Fahrenheit or F for Fahrenheit to Celsius:\").upper()\n",
    "    temp = float(input(\"Enter temperature:\"))\n",
    "\n",
    "    if choice == \"C\":\n",
    "        print(\"Result:\",c_to_f(temp), \"F\")\n",
    "\n",
    "    elif choice == \"F\":\n",
    "        print(\"Result:\",f_to_c(temp),\"C\")\n",
    "\n",
    "    else:\n",
    "        print(\"Invalid choice.\")\n",
    "\n",
    "except ValueError:\n",
    "    print(\"Please enter a valid number,\")"
   ]
  },
  {
   "cell_type": "code",
   "execution_count": null,
   "id": "879c2504-7bdf-41e7-8e7d-5a7e97e5c041",
   "metadata": {},
   "outputs": [],
   "source": []
  }
 ],
 "metadata": {
  "kernelspec": {
   "display_name": "Python [conda env:base] *",
   "language": "python",
   "name": "conda-base-py"
  },
  "language_info": {
   "codemirror_mode": {
    "name": "ipython",
    "version": 3
   },
   "file_extension": ".py",
   "mimetype": "text/x-python",
   "name": "python",
   "nbconvert_exporter": "python",
   "pygments_lexer": "ipython3",
   "version": "3.12.7"
  }
 },
 "nbformat": 4,
 "nbformat_minor": 5
}
