{
 "cells": [
  {
   "cell_type": "code",
   "execution_count": 22,
   "id": "7c05ea0a-7e12-466f-babd-a100f2143b1e",
   "metadata": {},
   "outputs": [
    {
     "name": "stdout",
     "output_type": "stream",
     "text": [
      "Temperature Data Analysis:\n",
      "Average Temperature: 5044463.01 °C\n",
      "Maximum Temperature: 8258730.00 °C\n",
      "Minimum Temperature: 474376.00 °C\n"
     ]
    }
   ],
   "source": [
    "import numpy as np\n",
    "import csv \n",
    "\n",
    "def read_temperatures(filename):\n",
    "    temperatures = []\n",
    "    with open(filename, 'r') as file:\n",
    "        reader = csv.DictReader(file)\n",
    "        for row in reader:\n",
    "             try:\n",
    "                 temp = float(row['record_id'])\n",
    "                 temperatures.append(temp)\n",
    "             except ValueError:\n",
    "                 print(f\"Skipping invalid temperature value : {row['Temperature']}\")\n",
    "    return np.array(temperatures)\n",
    "\n",
    "def compute_statistics(temp):\n",
    "    avg_temp = np.mean(temp)\n",
    "    max_temp = np.max(temp)\n",
    "    min_temp = np.min(temp)\n",
    "    return avg_temp,max_temp, min_temp\n",
    "\n",
    "def main():\n",
    "      filename = 'temperature.csv'\n",
    "      temps = read_temperatures(filename)\n",
    "\n",
    "      if temps.size == 0:\n",
    "          print(\"No valid temperature data found.\")\n",
    "          return\n",
    "\n",
    "      avg, max_t, min_t = compute_statistics(temps)\n",
    "\n",
    "      print(f\"Temperature Data Analysis:\")\n",
    "      print(f\"Average Temperature: {avg:.2f} °C\")\n",
    "      print(f\"Maximum Temperature: {max_t:.2f} °C\")\n",
    "      print(f\"Minimum Temperature: {min_t:.2f} °C\")\n",
    "\n",
    "if __name__ ==\"__main__\":\n",
    "    main()"
   ]
  },
  {
   "cell_type": "code",
   "execution_count": null,
   "id": "de707bbe-6c28-4b9c-ab6d-f5a112f6af08",
   "metadata": {},
   "outputs": [],
   "source": []
  }
 ],
 "metadata": {
  "kernelspec": {
   "display_name": "Python 3 (ipykernel)",
   "language": "python",
   "name": "python3"
  },
  "language_info": {
   "codemirror_mode": {
    "name": "ipython",
    "version": 3
   },
   "file_extension": ".py",
   "mimetype": "text/x-python",
   "name": "python",
   "nbconvert_exporter": "python",
   "pygments_lexer": "ipython3",
   "version": "3.12.7"
  }
 },
 "nbformat": 4,
 "nbformat_minor": 5
}
