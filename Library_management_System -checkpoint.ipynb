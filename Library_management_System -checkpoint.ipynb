{
 "cells": [
  {
   "cell_type": "code",
   "execution_count": 20,
   "id": "34340c96-6eb1-4b70-9315-f028ba4a058f",
   "metadata": {
    "scrolled": true
   },
   "outputs": [
    {
     "name": "stdout",
     "output_type": "stream",
     "text": [
      "Book: Python 101 by Mike (ID: 1)\n",
      "Magazine: AI Today by Sarah (ID: 2)\n"
     ]
    }
   ],
   "source": [
    "class LibraryItem:\n",
    "    def __init__(self,title,author,item_id):\n",
    "       self.title = title\n",
    "       self.author = author\n",
    "       self.item_id = item_id\n",
    "\n",
    "    def display_info(self):\n",
    "        raise NotImplementedError(\"Subclass must implement abstract method\")\n",
    "\n",
    "class Book(LibraryItem):\n",
    "    def display_info(self):\n",
    "        return f\"Book: {self.title} by {self.author} (ID: {self.item_id})\"\n",
    "\n",
    "class Magazine(LibraryItem):\n",
    "    def display_info(self):\n",
    "        return f\"Magazine: {self.title} by {self.author} (ID: {self.item_id})\"\n",
    "\n",
    "class Library:\n",
    "    def __init__(self):\n",
    "        self.items = []\n",
    "\n",
    "    def add_item(self,item):\n",
    "        self.items.append(item)\n",
    "\n",
    "    def remove_item(self,item_id):\n",
    "        self.items = [i for i in self.items if i.item_id != item_id]\n",
    "\n",
    "    def list_items(self):\n",
    "        for item in self.items:\n",
    "            print(item.display_info())\n",
    "\n",
    "lib =Library()\n",
    "b1 = Book (\"Python 101\", \"Mike\", 1)\n",
    "m1 = Magazine(\"AI Today\", \"Sarah\",2)\n",
    "\n",
    "lib.add_item(b1)\n",
    "lib.add_item(m1)\n",
    "lib.list_items()"
   ]
  },
  {
   "cell_type": "code",
   "execution_count": null,
   "id": "1b41ed88-c0b5-4ef5-a507-df26ea07bbdd",
   "metadata": {},
   "outputs": [],
   "source": []
  }
 ],
 "metadata": {
  "kernelspec": {
   "display_name": "Python 3 (ipykernel)",
   "language": "python",
   "name": "python3"
  },
  "language_info": {
   "codemirror_mode": {
    "name": "ipython",
    "version": 3
   },
   "file_extension": ".py",
   "mimetype": "text/x-python",
   "name": "python",
   "nbconvert_exporter": "python",
   "pygments_lexer": "ipython3",
   "version": "3.12.7"
  }
 },
 "nbformat": 4,
 "nbformat_minor": 5
}
