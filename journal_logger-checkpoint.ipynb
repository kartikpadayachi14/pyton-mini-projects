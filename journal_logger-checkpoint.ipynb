{
 "cells": [
  {
   "cell_type": "code",
   "execution_count": 2,
   "id": "46233b9c-b876-46a3-a9d8-d1105da73064",
   "metadata": {},
   "outputs": [
    {
     "name": "stdin",
     "output_type": "stream",
     "text": [
      "How are you feeling today (e.g., happy, tired)? happy\n",
      "Write a short entry about your day: it was very good\n"
     ]
    },
    {
     "name": "stdout",
     "output_type": "stream",
     "text": [
      "Your entry has been saved to journal.txt!\n"
     ]
    }
   ],
   "source": [
    "from datetime import datetime\n",
    "\n",
    "mood = input(\"How are you feeling today (e.g., happy, tired)?\")\n",
    "entry =input(\"Write a short entry about your day:\")\n",
    "\n",
    "today = datetime.now().strftime(\"%Y-%m-%d %H:%M:%S\")\n",
    "journal_entry = f\"\"\"Date: {today}\n",
    "Mood: {mood}\n",
    "Entry: {entry}\n",
    "{'-'*40}\n",
    "\"\"\"\n",
    "\n",
    "with open(\"journal.txt\",\"a\", encoding= \"utf-8\") as file:\n",
    "    file.write(journal_entry)\n",
    "\n",
    "print(\"Your entry has been saved to journal.txt!\")"
   ]
  },
  {
   "cell_type": "code",
   "execution_count": null,
   "id": "cea029bb-915c-425c-8f3d-e3c220090fa1",
   "metadata": {},
   "outputs": [],
   "source": []
  }
 ],
 "metadata": {
  "kernelspec": {
   "display_name": "Python [conda env:base] *",
   "language": "python",
   "name": "conda-base-py"
  },
  "language_info": {
   "codemirror_mode": {
    "name": "ipython",
    "version": 3
   },
   "file_extension": ".py",
   "mimetype": "text/x-python",
   "name": "python",
   "nbconvert_exporter": "python",
   "pygments_lexer": "ipython3",
   "version": "3.12.7"
  }
 },
 "nbformat": 4,
 "nbformat_minor": 5
}
