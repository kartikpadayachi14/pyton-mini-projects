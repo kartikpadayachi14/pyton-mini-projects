{
 "cells": [
  {
   "cell_type": "code",
   "execution_count": 12,
   "id": "d598f69b-2983-482f-9097-e7b9810c92b2",
   "metadata": {},
   "outputs": [
    {
     "name": "stdin",
     "output_type": "stream",
     "text": [
      "Player1, press enter to roll the dice: \n"
     ]
    },
    {
     "name": "stdout",
     "output_type": "stream",
     "text": [
      "Player1 rolled a 2!\n",
      "Player1's total score is now 2\n",
      "Next Person chance\n"
     ]
    },
    {
     "name": "stdin",
     "output_type": "stream",
     "text": [
      "Player2, press enter to roll the dice: \n"
     ]
    },
    {
     "name": "stdout",
     "output_type": "stream",
     "text": [
      "Player2 rolled a 2!\n",
      "Player2's total score is now 2\n",
      "Next Person chance\n"
     ]
    },
    {
     "name": "stdin",
     "output_type": "stream",
     "text": [
      "Player3, press enter to roll the dice: \n"
     ]
    },
    {
     "name": "stdout",
     "output_type": "stream",
     "text": [
      "Player3 rolled a 4!\n",
      "Player3's total score is now 4\n",
      "Next Person chance\n"
     ]
    },
    {
     "name": "stdin",
     "output_type": "stream",
     "text": [
      "Player1, press enter to roll the dice: \n"
     ]
    },
    {
     "name": "stdout",
     "output_type": "stream",
     "text": [
      "Player1 rolled a 4!\n",
      "Player1's total score is now 6\n",
      "Next Person chance\n"
     ]
    },
    {
     "name": "stdin",
     "output_type": "stream",
     "text": [
      "Player2, press enter to roll the dice: \n"
     ]
    },
    {
     "name": "stdout",
     "output_type": "stream",
     "text": [
      "Player2 rolled a 5!\n",
      "Player2's total score is now 7\n",
      "Next Person chance\n"
     ]
    },
    {
     "name": "stdin",
     "output_type": "stream",
     "text": [
      "Player3, press enter to roll the dice: \n"
     ]
    },
    {
     "name": "stdout",
     "output_type": "stream",
     "text": [
      "Player3 rolled a 1!\n",
      "Player3's total score is now 5\n",
      "Next Person chance\n"
     ]
    },
    {
     "name": "stdin",
     "output_type": "stream",
     "text": [
      "Player1, press enter to roll the dice: \n"
     ]
    },
    {
     "name": "stdout",
     "output_type": "stream",
     "text": [
      "Player1 rolled a 6!\n",
      "Player1's total score is now 12\n",
      "Player1You rolled a 6! Roll again\n"
     ]
    },
    {
     "name": "stdin",
     "output_type": "stream",
     "text": [
      "Player1, press enter to roll the dice: \n"
     ]
    },
    {
     "name": "stdout",
     "output_type": "stream",
     "text": [
      "Player1 rolled a 4!\n",
      "Player1's total score is now 16\n",
      "Next Person chance\n"
     ]
    },
    {
     "name": "stdin",
     "output_type": "stream",
     "text": [
      "Player2, press enter to roll the dice: \n"
     ]
    },
    {
     "name": "stdout",
     "output_type": "stream",
     "text": [
      "Player2 rolled a 1!\n",
      "Player2's total score is now 8\n",
      "Next Person chance\n"
     ]
    },
    {
     "name": "stdin",
     "output_type": "stream",
     "text": [
      "Player3, press enter to roll the dice: \n"
     ]
    },
    {
     "name": "stdout",
     "output_type": "stream",
     "text": [
      "Player3 rolled a 6!\n",
      "Player3's total score is now 11\n",
      "Player3You rolled a 6! Roll again\n"
     ]
    },
    {
     "name": "stdin",
     "output_type": "stream",
     "text": [
      "Player3, press enter to roll the dice: \n"
     ]
    },
    {
     "name": "stdout",
     "output_type": "stream",
     "text": [
      "Player3 rolled a 5!\n",
      "Player3's total score is now 16\n",
      "Next Person chance\n"
     ]
    },
    {
     "name": "stdin",
     "output_type": "stream",
     "text": [
      "Player1, press enter to roll the dice: \n"
     ]
    },
    {
     "name": "stdout",
     "output_type": "stream",
     "text": [
      "Player1 rolled a 5!\n",
      "Player1's total score is now 21\n",
      "Player1 wins the game with 21 points! \n"
     ]
    }
   ],
   "source": [
    "import random\n",
    "\n",
    "def roll_dice():\n",
    "    return random.randint(1,6)\n",
    "\n",
    "players= [\"Player1\", \"Player2\", \"Player3\"]\n",
    "scores={ player: 0 for player in players}\n",
    "current_player = 0\n",
    "\n",
    "while True:\n",
    "    player= players[current_player]\n",
    "    input(f\"{player}, press enter to roll the dice:\")\n",
    "    result = roll_dice()\n",
    "    print(f\"{player} rolled a {result}!\")\n",
    "\n",
    "    scores[player] += result\n",
    "    print(f\"{player}'s total score is now {scores[player]}\")\n",
    "\n",
    "    if scores[player] >= 20:\n",
    "        print(f\"{player} wins the game with {scores[player]} points! \")\n",
    "        break\n",
    "\n",
    "    if result ==6:\n",
    "        print(f\"{player}You rolled a 6! Roll again\")\n",
    "        continue\n",
    "\n",
    "    else:\n",
    "        print(\"Next Person chance\")\n",
    "        current_player = (current_player + 1) %len(players)\n",
    "\n",
    "\n",
    "\n"
   ]
  },
  {
   "cell_type": "code",
   "execution_count": null,
   "id": "210dab16-e4a6-4071-a247-b8a04f66c959",
   "metadata": {},
   "outputs": [],
   "source": []
  }
 ],
 "metadata": {
  "kernelspec": {
   "display_name": "Python [conda env:base] *",
   "language": "python",
   "name": "conda-base-py"
  },
  "language_info": {
   "codemirror_mode": {
    "name": "ipython",
    "version": 3
   },
   "file_extension": ".py",
   "mimetype": "text/x-python",
   "name": "python",
   "nbconvert_exporter": "python",
   "pygments_lexer": "ipython3",
   "version": "3.12.7"
  }
 },
 "nbformat": 4,
 "nbformat_minor": 5
}
